{
 "cells": [
  {
   "cell_type": "markdown",
   "metadata": {},
   "source": [
    "\n",
    "# Predicting Net Promoter Score (NPS) with NPS verbatims\n",
    "# Xiyan (Jamie) Wang"
   ]
  },
  {
   "cell_type": "markdown",
   "metadata": {},
   "source": [
    "## 1. Indroduction"
   ]
  },
  {
   "cell_type": "markdown",
   "metadata": {},
   "source": [
    "The **Net Promoter Score** is an index ranging from -100 to 100 that measures the willingness of customers to recommend a company’s products or services to others. It is used as a proxy for gauging the customer’s overall satisfaction with a company’s product or service and the customer’s loyalty to the brand. Customers are surveyed on one single question. They are asked to rate on an 11-point scale the likelihood of recommending the company or brand to a friend or colleague.\n",
    "* ‘Promoters’ answered 9 or 10. They love the company’s products and services. They are the repeat buyers, are the enthusiastic evangelist who recommends the company products and services to other potential buyers. \n",
    "\n",
    "* ‘Detractors’ gave a score lower or equal to 6. They are not particularly thrilled by the product or the service. They, with all likelihood, won’t purchase again from the company, could potentially damage the company’s reputation through negative word of mouth.\n",
    "\n",
    "* ‘Passives’ gave a score of 7 or 8. They are somewhat satisfied but could easily switch to a competitor’s offering if given the opportunity. They probably wouldn’t spread any negative word-of-mouth, but are not enthusiastic enough about your products or services to actually promote them.\n",
    "\n",
    "Sometimes customers are also surveyed on the “why” behind the score, and their answer to such questions are called **\"NPS verbatism\"**. Such verbatims can be used to uncover and quantify what the company does well and what it can fix or improve: be a product issue, a support, or a logistics issue."
   ]
  },
  {
   "cell_type": "markdown",
   "metadata": {},
   "source": [
    "# 2. Motivations and goals"
   ]
  },
  {
   "cell_type": "markdown",
   "metadata": {},
   "source": [
    "Currently many company with NPS capability tend to use text analytics techniques to quantify the NPS vervatism. For example, topic modeling has been used frequently to recognize the topics embedded in the verbatims. However, to my knowledge, there exist little practice to use the quantified text data for prediction of any kinds. \n",
    "\n",
    "While one can argue that gathering data through survey regularly (i.e. through tracking studies) can provide a company with sufficient awareness of it's custmoter's satisfaction level, it is imperitive to understand that it is also possible to predict NPS scores through predictive modeling using real time text data such as social media reviews. \n",
    "\n",
    "In the following excersice, I will use a comparatively small dataset to attemp to set up a predictive model using the verbatims to predict NPS catergories (Promoter/Detractor). "
   ]
  },
  {
   "cell_type": "markdown",
   "metadata": {},
   "source": [
    "# 3. Overview of Data"
   ]
  },
  {
   "cell_type": "code",
   "execution_count": 5,
   "metadata": {},
   "outputs": [
    {
     "data": {
      "text/html": [
       "<div>\n",
       "<style>\n",
       "    .dataframe thead tr:only-child th {\n",
       "        text-align: right;\n",
       "    }\n",
       "\n",
       "    .dataframe thead th {\n",
       "        text-align: left;\n",
       "    }\n",
       "\n",
       "    .dataframe tbody tr th {\n",
       "        vertical-align: top;\n",
       "    }\n",
       "</style>\n",
       "<table border=\"1\" class=\"dataframe\">\n",
       "  <thead>\n",
       "    <tr style=\"text-align: right;\">\n",
       "      <th></th>\n",
       "      <th>Segment</th>\n",
       "      <th>Respondent_Serial</th>\n",
       "      <th>NPS1_1</th>\n",
       "      <th>NPS_Recode</th>\n",
       "      <th>NPS2</th>\n",
       "    </tr>\n",
       "  </thead>\n",
       "  <tbody>\n",
       "    <tr>\n",
       "      <th>0</th>\n",
       "      <td>ISP</td>\n",
       "      <td>62</td>\n",
       "      <td>7</td>\n",
       "      <td>Passive</td>\n",
       "      <td>NaN</td>\n",
       "    </tr>\n",
       "    <tr>\n",
       "      <th>1</th>\n",
       "      <td>ISP</td>\n",
       "      <td>64</td>\n",
       "      <td>3</td>\n",
       "      <td>Detractor</td>\n",
       "      <td>NaN</td>\n",
       "    </tr>\n",
       "    <tr>\n",
       "      <th>2</th>\n",
       "      <td>ISP</td>\n",
       "      <td>65</td>\n",
       "      <td>10</td>\n",
       "      <td>Promoter</td>\n",
       "      <td>Other options in my community are less desirable.</td>\n",
       "    </tr>\n",
       "    <tr>\n",
       "      <th>3</th>\n",
       "      <td>ISP</td>\n",
       "      <td>66</td>\n",
       "      <td>5</td>\n",
       "      <td>Detractor</td>\n",
       "      <td>cost</td>\n",
       "    </tr>\n",
       "    <tr>\n",
       "      <th>4</th>\n",
       "      <td>ISP</td>\n",
       "      <td>67</td>\n",
       "      <td>5</td>\n",
       "      <td>Detractor</td>\n",
       "      <td>NaN</td>\n",
       "    </tr>\n",
       "  </tbody>\n",
       "</table>\n",
       "</div>"
      ],
      "text/plain": [
       "  Segment  Respondent_Serial  NPS1_1 NPS_Recode  \\\n",
       "0     ISP                 62       7    Passive   \n",
       "1     ISP                 64       3  Detractor   \n",
       "2     ISP                 65      10   Promoter   \n",
       "3     ISP                 66       5  Detractor   \n",
       "4     ISP                 67       5  Detractor   \n",
       "\n",
       "                                                NPS2  \n",
       "0                                                NaN  \n",
       "1                                                NaN  \n",
       "2  Other options in my community are less desirable.  \n",
       "3                                               cost  \n",
       "4                                                NaN  "
      ]
     },
     "execution_count": 5,
     "metadata": {},
     "output_type": "execute_result"
    }
   ],
   "source": [
    "import pandas as pd\n",
    "import numpy as np\n",
    "import os\n",
    "raw = pd.read_csv('C:\\\\lda python\\\\Wireline Data for Concept Mining.csv',encoding = \"ISO-8859-1\")\n",
    "raw.head()"
   ]
  },
  {
   "cell_type": "markdown",
   "metadata": {},
   "source": [
    "Since we are only predicting NPS using Text transcript, and we can not get any information from missing NPS2. We subset data with non-missing NPS."
   ]
  },
  {
   "cell_type": "code",
   "execution_count": 7,
   "metadata": {},
   "outputs": [
    {
     "name": "stdout",
     "output_type": "stream",
     "text": [
      "Size of non missing data: 54053\n"
     ]
    },
    {
     "data": {
      "text/html": [
       "<div>\n",
       "<style>\n",
       "    .dataframe thead tr:only-child th {\n",
       "        text-align: right;\n",
       "    }\n",
       "\n",
       "    .dataframe thead th {\n",
       "        text-align: left;\n",
       "    }\n",
       "\n",
       "    .dataframe tbody tr th {\n",
       "        vertical-align: top;\n",
       "    }\n",
       "</style>\n",
       "<table border=\"1\" class=\"dataframe\">\n",
       "  <thead>\n",
       "    <tr style=\"text-align: right;\">\n",
       "      <th></th>\n",
       "      <th>Segment</th>\n",
       "      <th>Respondent_Serial</th>\n",
       "      <th>NPS1_1</th>\n",
       "      <th>NPS_Recode</th>\n",
       "      <th>NPS2</th>\n",
       "    </tr>\n",
       "  </thead>\n",
       "  <tbody>\n",
       "    <tr>\n",
       "      <th>2</th>\n",
       "      <td>ISP</td>\n",
       "      <td>65</td>\n",
       "      <td>10</td>\n",
       "      <td>Promoter</td>\n",
       "      <td>Other options in my community are less desirable.</td>\n",
       "    </tr>\n",
       "    <tr>\n",
       "      <th>3</th>\n",
       "      <td>ISP</td>\n",
       "      <td>66</td>\n",
       "      <td>5</td>\n",
       "      <td>Detractor</td>\n",
       "      <td>cost</td>\n",
       "    </tr>\n",
       "    <tr>\n",
       "      <th>5</th>\n",
       "      <td>ISP</td>\n",
       "      <td>69</td>\n",
       "      <td>10</td>\n",
       "      <td>Promoter</td>\n",
       "      <td>reliability</td>\n",
       "    </tr>\n",
       "    <tr>\n",
       "      <th>6</th>\n",
       "      <td>ISP</td>\n",
       "      <td>70</td>\n",
       "      <td>5</td>\n",
       "      <td>Detractor</td>\n",
       "      <td>too expensive</td>\n",
       "    </tr>\n",
       "    <tr>\n",
       "      <th>7</th>\n",
       "      <td>ISP</td>\n",
       "      <td>71</td>\n",
       "      <td>8</td>\n",
       "      <td>Passive</td>\n",
       "      <td>Years ago there was a massive virus attack on ...</td>\n",
       "    </tr>\n",
       "  </tbody>\n",
       "</table>\n",
       "</div>"
      ],
      "text/plain": [
       "  Segment  Respondent_Serial  NPS1_1 NPS_Recode  \\\n",
       "2     ISP                 65      10   Promoter   \n",
       "3     ISP                 66       5  Detractor   \n",
       "5     ISP                 69      10   Promoter   \n",
       "6     ISP                 70       5  Detractor   \n",
       "7     ISP                 71       8    Passive   \n",
       "\n",
       "                                                NPS2  \n",
       "2  Other options in my community are less desirable.  \n",
       "3                                               cost  \n",
       "5                                        reliability  \n",
       "6                                      too expensive  \n",
       "7  Years ago there was a massive virus attack on ...  "
      ]
     },
     "execution_count": 7,
     "metadata": {},
     "output_type": "execute_result"
    }
   ],
   "source": [
    "raw2 = raw.dropna(subset = ['NPS2'])\n",
    "print(\"Size of non missing data:\", raw2.shape[0])\n",
    "raw2.head()"
   ]
  },
  {
   "cell_type": "markdown",
   "metadata": {},
   "source": [
    "Here we check out how balanced the data are in terms of the dependent variable NPS_recode"
   ]
  },
  {
   "cell_type": "code",
   "execution_count": 8,
   "metadata": {},
   "outputs": [
    {
     "data": {
      "text/html": [
       "<div>\n",
       "<style>\n",
       "    .dataframe thead tr:only-child th {\n",
       "        text-align: right;\n",
       "    }\n",
       "\n",
       "    .dataframe thead th {\n",
       "        text-align: left;\n",
       "    }\n",
       "\n",
       "    .dataframe tbody tr th {\n",
       "        vertical-align: top;\n",
       "    }\n",
       "</style>\n",
       "<table border=\"1\" class=\"dataframe\">\n",
       "  <thead>\n",
       "    <tr style=\"text-align: right;\">\n",
       "      <th></th>\n",
       "      <th>NPS_Recode</th>\n",
       "      <th>count</th>\n",
       "      <th>percentage</th>\n",
       "    </tr>\n",
       "  </thead>\n",
       "  <tbody>\n",
       "    <tr>\n",
       "      <th>0</th>\n",
       "      <td>Promoter</td>\n",
       "      <td>18902</td>\n",
       "      <td>0.349694</td>\n",
       "    </tr>\n",
       "    <tr>\n",
       "      <th>1</th>\n",
       "      <td>Passive</td>\n",
       "      <td>18008</td>\n",
       "      <td>0.333154</td>\n",
       "    </tr>\n",
       "    <tr>\n",
       "      <th>2</th>\n",
       "      <td>Detractor</td>\n",
       "      <td>17143</td>\n",
       "      <td>0.317152</td>\n",
       "    </tr>\n",
       "  </tbody>\n",
       "</table>\n",
       "</div>"
      ],
      "text/plain": [
       "  NPS_Recode  count  percentage\n",
       "0   Promoter  18902    0.349694\n",
       "1    Passive  18008    0.333154\n",
       "2  Detractor  17143    0.317152"
      ]
     },
     "execution_count": 8,
     "metadata": {},
     "output_type": "execute_result"
    }
   ],
   "source": [
    "import matplotlib.pyplot as plt\n",
    "%matplotlib inline\n",
    "import seaborn as sns\n",
    "NPS_cat = raw2['NPS_Recode'].value_counts()\n",
    "color = sns.color_palette()\n",
    "\n",
    "counts = raw2['NPS_Recode'].value_counts().reset_index()\n",
    "counts.columns = ['NPS_Recode', 'count']\n",
    "counts['percentage'] = counts['count']/54053\n",
    "counts"
   ]
  },
  {
   "cell_type": "code",
   "execution_count": 9,
   "metadata": {},
   "outputs": [
    {
     "data": {
      "image/png": "[encoded data removed]",
      "text/plain": [
       "<matplotlib.figure.Figure at 0xc52e358>"
      ]
     },
     "metadata": {},
     "output_type": "display_data"
    }
   ],
   "source": [
    "##Interest Level ALONG\n",
    "plt.figure(figsize=(8,4))\n",
    "sns.barplot(counts['NPS_Recode'],counts['percentage'], alpha=0.8, color=color[1])\n",
    "plt.ylabel('Percent of data', fontsize=12)\n",
    "plt.xlabel('NPS Catergories', fontsize=12)\n",
    "plt.show()"
   ]
  },
  {
   "cell_type": "markdown",
   "metadata": {},
   "source": [
    "From the above distribution we can see that around 35% of the data are promoters. Another 33% are Passive and 32% are Detractors."
   ]
  },
  {
   "cell_type": "markdown",
   "metadata": {},
   "source": [
    "# 4. Data Cleaning"
   ]
  },
  {
   "cell_type": "markdown",
   "metadata": {},
   "source": [
    "### 4.1 Tokenize"
   ]
  },
  {
   "cell_type": "code",
   "execution_count": 10,
   "metadata": {
    "collapsed": true
   },
   "outputs": [],
   "source": [
    "import re\n",
    "import warnings\n",
    "warnings.filterwarnings('ignore')\n",
    "# Use regular expressions to do a find-and-replace\n",
    "raw2.loc[:,'NPS2_nopunc'] = raw2.loc[:,'NPS2'].apply(lambda x: re.sub(\"[^a-zA-Z]\",\" \",x))\n",
    "#to lower case and split to list of word \n",
    "raw2.loc[:,'NPs2_lower'] = raw2.loc[:,'NPS2_nopunc'].apply(lambda x: x.lower()).apply(lambda x: x.split()) "
   ]
  },
  {
   "cell_type": "markdown",
   "metadata": {},
   "source": [
    "### Stopword "
   ]
  },
  {
   "cell_type": "code",
   "execution_count": 12,
   "metadata": {},
   "outputs": [
    {
     "name": "stdout",
     "output_type": "stream",
     "text": [
      "Collecting stop_words\n",
      "  Using cached stop-words-2015.2.23.1.tar.gz\n",
      "Building wheels for collected packages: stop-words\n",
      "  Running setup.py bdist_wheel for stop-words: started\n",
      "  Running setup.py bdist_wheel for stop-words: finished with status 'done'\n",
      "  Stored in directory: C:\\Users\\xiyan_wang\\AppData\\Local\\pip\\Cache\\wheels\\22\\74\\80\\77275c2f9f2f1d9841b51e169a38985640a10fbd2711d10791\n",
      "Successfully built stop-words\n",
      "Installing collected packages: stop-words\n",
      "Successfully installed stop-words-2015.2.23.1\n"
     ]
    }
   ],
   "source": [
    "# Remove stop words from \"words\"\n",
    "!pip install stop_words\n",
    "from stop_words import get_stop_words\n",
    "en_stop = get_stop_words('en')\n",
    "raw2.loc[:,'NPs2_stopped'] = raw2['NPs2_lower'].apply(lambda x: [item for item in x if item not in en_stop])"
   ]
  },
  {
   "cell_type": "markdown",
   "metadata": {},
   "source": [
    "### Stemming "
   ]
  },
  {
   "cell_type": "code",
   "execution_count": 13,
   "metadata": {},
   "outputs": [
    {
     "data": {
      "text/html": [
       "<div>\n",
       "<style>\n",
       "    .dataframe thead tr:only-child th {\n",
       "        text-align: right;\n",
       "    }\n",
       "\n",
       "    .dataframe thead th {\n",
       "        text-align: left;\n",
       "    }\n",
       "\n",
       "    .dataframe tbody tr th {\n",
       "        vertical-align: top;\n",
       "    }\n",
       "</style>\n",
       "<table border=\"1\" class=\"dataframe\">\n",
       "  <thead>\n",
       "    <tr style=\"text-align: right;\">\n",
       "      <th></th>\n",
       "      <th>Segment</th>\n",
       "      <th>Respondent_Serial</th>\n",
       "      <th>NPS1_1</th>\n",
       "      <th>NPS_Recode</th>\n",
       "      <th>NPS2</th>\n",
       "      <th>NPS2_nopunc</th>\n",
       "      <th>NPs2_lower</th>\n",
       "      <th>NPs2_stopped</th>\n",
       "      <th>NPS2_stemmed</th>\n",
       "    </tr>\n",
       "  </thead>\n",
       "  <tbody>\n",
       "    <tr>\n",
       "      <th>2</th>\n",
       "      <td>ISP</td>\n",
       "      <td>65</td>\n",
       "      <td>10</td>\n",
       "      <td>Promoter</td>\n",
       "      <td>Other options in my community are less desirable.</td>\n",
       "      <td>Other options in my community are less desirable</td>\n",
       "      <td>[other, options, in, my, community, are, less,...</td>\n",
       "      <td>[options, community, less, desirable]</td>\n",
       "      <td>[option, commun, less, desir]</td>\n",
       "    </tr>\n",
       "    <tr>\n",
       "      <th>3</th>\n",
       "      <td>ISP</td>\n",
       "      <td>66</td>\n",
       "      <td>5</td>\n",
       "      <td>Detractor</td>\n",
       "      <td>cost</td>\n",
       "      <td>cost</td>\n",
       "      <td>[cost]</td>\n",
       "      <td>[cost]</td>\n",
       "      <td>[cost]</td>\n",
       "    </tr>\n",
       "    <tr>\n",
       "      <th>5</th>\n",
       "      <td>ISP</td>\n",
       "      <td>69</td>\n",
       "      <td>10</td>\n",
       "      <td>Promoter</td>\n",
       "      <td>reliability</td>\n",
       "      <td>reliability</td>\n",
       "      <td>[reliability]</td>\n",
       "      <td>[reliability]</td>\n",
       "      <td>[reliabl]</td>\n",
       "    </tr>\n",
       "    <tr>\n",
       "      <th>6</th>\n",
       "      <td>ISP</td>\n",
       "      <td>70</td>\n",
       "      <td>5</td>\n",
       "      <td>Detractor</td>\n",
       "      <td>too expensive</td>\n",
       "      <td>too expensive</td>\n",
       "      <td>[too, expensive]</td>\n",
       "      <td>[expensive]</td>\n",
       "      <td>[expens]</td>\n",
       "    </tr>\n",
       "    <tr>\n",
       "      <th>7</th>\n",
       "      <td>ISP</td>\n",
       "      <td>71</td>\n",
       "      <td>8</td>\n",
       "      <td>Passive</td>\n",
       "      <td>Years ago there was a massive virus attack on ...</td>\n",
       "      <td>Years ago there was a massive virus attack on ...</td>\n",
       "      <td>[years, ago, there, was, a, massive, virus, at...</td>\n",
       "      <td>[years, ago, massive, virus, attack, comcast, ...</td>\n",
       "      <td>[year, ago, massiv, viru, attack, comcast, dis...</td>\n",
       "    </tr>\n",
       "  </tbody>\n",
       "</table>\n",
       "</div>"
      ],
      "text/plain": [
       "  Segment  Respondent_Serial  NPS1_1 NPS_Recode  \\\n",
       "2     ISP                 65      10   Promoter   \n",
       "3     ISP                 66       5  Detractor   \n",
       "5     ISP                 69      10   Promoter   \n",
       "6     ISP                 70       5  Detractor   \n",
       "7     ISP                 71       8    Passive   \n",
       "\n",
       "                                                NPS2  \\\n",
       "2  Other options in my community are less desirable.   \n",
       "3                                               cost   \n",
       "5                                        reliability   \n",
       "6                                      too expensive   \n",
       "7  Years ago there was a massive virus attack on ...   \n",
       "\n",
       "                                         NPS2_nopunc  \\\n",
       "2  Other options in my community are less desirable    \n",
       "3                                               cost   \n",
       "5                                        reliability   \n",
       "6                                      too expensive   \n",
       "7  Years ago there was a massive virus attack on ...   \n",
       "\n",
       "                                          NPs2_lower  \\\n",
       "2  [other, options, in, my, community, are, less,...   \n",
       "3                                             [cost]   \n",
       "5                                      [reliability]   \n",
       "6                                   [too, expensive]   \n",
       "7  [years, ago, there, was, a, massive, virus, at...   \n",
       "\n",
       "                                        NPs2_stopped  \\\n",
       "2              [options, community, less, desirable]   \n",
       "3                                             [cost]   \n",
       "5                                      [reliability]   \n",
       "6                                        [expensive]   \n",
       "7  [years, ago, massive, virus, attack, comcast, ...   \n",
       "\n",
       "                                        NPS2_stemmed  \n",
       "2                      [option, commun, less, desir]  \n",
       "3                                             [cost]  \n",
       "5                                          [reliabl]  \n",
       "6                                           [expens]  \n",
       "7  [year, ago, massiv, viru, attack, comcast, dis...  "
      ]
     },
     "execution_count": 13,
     "metadata": {},
     "output_type": "execute_result"
    }
   ],
   "source": [
    "from nltk.stem.porter import PorterStemmer\n",
    "# Create p_stemmer of class PorterStemmer\n",
    "p_stemmer = PorterStemmer()\n",
    "# stem token\n",
    "raw2.loc[:,'NPS2_stemmed'] = raw2['NPs2_stopped'].apply (lambda x:[p_stemmer.stem(item) for item in x])\n",
    "raw2.head()"
   ]
  },
  {
   "cell_type": "code",
   "execution_count": 8,
   "metadata": {
    "collapsed": true
   },
   "outputs": [],
   "source": [
    "### 2-Gram "
   ]
  },
  {
   "cell_type": "markdown",
   "metadata": {},
   "source": [
    "# Constructing a document-term matrix (Bag of Word)"
   ]
  },
  {
   "cell_type": "markdown",
   "metadata": {},
   "source": [
    "After cleaning up the documents, we transform the column of verbatims into a document-term matrix, so that the occurance of each word can be quantified and used for learning process. A document-term matrix or term-document matrix is a mathematical matrix that describes the frequency of terms that occur in a collection of documents. In a document-term matrix, rows correspond to documents in the collection and columns correspond to terms."
   ]
  },
  {
   "cell_type": "code",
   "execution_count": 44,
   "metadata": {},
   "outputs": [
    {
     "data": {
      "text/plain": [
       "pandas.core.series.Series"
      ]
     },
     "execution_count": 44,
     "metadata": {},
     "output_type": "execute_result"
    }
   ],
   "source": [
    "from gensim import corpora, models\n",
    "dictionary = corpora.Dictionary(raw2['NPS2_stemmed'])"
   ]
  },
  {
   "cell_type": "code",
   "execution_count": 10,
   "metadata": {},
   "outputs": [
    {
     "name": "stdout",
     "output_type": "stream",
     "text": [
      "Then convert convert tokenized documents to vectors: <type 'list'>\n",
      "[(0, 1), (1, 1), (2, 1), (3, 1)]\n"
     ]
    }
   ],
   "source": [
    "corpus = [dictionary.doc2bow(text) for text in raw2['NPS2_stemmed']]\n",
    "print \"Then convert convert tokenized documents to vectors: %s\"% type(corpus)\n",
    "print(corpus[0])"
   ]
  },
  {
   "cell_type": "markdown",
   "metadata": {},
   "source": [
    "# Constructing a tf-idf corpus"
   ]
  },
  {
   "cell_type": "markdown",
   "metadata": {},
   "source": [
    "In information retrieval, tf–idf, short for term frequency–inverse document frequency, is a numerical statistic that is intended to reflect how important a word is to a document in a collection or corpus. The tf-idf value increases proportionally to the number of times a word appears in the document, but is often offset by the frequency of the word in the corpus, which helps to adjust for the fact that some words appear more frequently in general. "
   ]
  },
  {
   "cell_type": "code",
   "execution_count": 11,
   "metadata": {},
   "outputs": [
    {
     "name": "stdout",
     "output_type": "stream",
     "text": [
      "We initialize our TF-IDF transformation tool : <class 'gensim.models.tfidfmodel.TfidfModel'>\n",
      "<gensim.interfaces.TransformedCorpus object at 0x0000000008EBDDA0>\n"
     ]
    }
   ],
   "source": [
    "import gensim\n",
    "tfidf = models.TfidfModel(corpus) # step 1 -- initialize a model\n",
    "print \"We initialize our TF-IDF transformation tool : %s\"%type(tfidf)\n",
    "\n",
    "# corpus tf-idf\n",
    "corpus_tfidf = tfidf[corpus]\n",
    "print corpus_tfidf"
   ]
  },
  {
   "cell_type": "markdown",
   "metadata": {},
   "source": [
    "# Applying the LDA model"
   ]
  },
  {
   "cell_type": "markdown",
   "metadata": {},
   "source": [
    "The bag-of-words representation with or without a TF-IDF weighting are commonly used in text analytics. It retains a great deal of information, yet it can also be inefficient since many terms may actually represent similar meanings. It can also be confusing since one word can also imply multiple meanings. A bag-of-words representation can also be cumbersome given its high dimentionality. Hence, dimension reduction techniques are usually applied to the document-term matrix to collapse together terms that have the same \"Semantics\", and to provide a lower-dimensional representation of the documents."
   ]
  },
  {
   "cell_type": "markdown",
   "metadata": {},
   "source": [
    "Two forms of dimensional reduction techniques are used here for such analysis, including: 1) Latent semantic indexing, which uses spectral decomposition to identify a lower-dimensional representation of the origianl matrix. 2) Latent dirichlet allocation, which uses a probabilistic model to find the co-occurence patterns of terms that correspond to semantic topics in a collection of documents. "
   ]
  },
  {
   "cell_type": "code",
   "execution_count": 12,
   "metadata": {
    "collapsed": true
   },
   "outputs": [],
   "source": [
    "ldamodel_tfidf = gensim.models.ldamodel.LdaModel(corpus, num_topics=50, id2word = dictionary, passes=20)\n",
    "ldamodel_bow = gensim.models.ldamodel.LdaModel(corpus_tfidf, num_topics=50, id2word = dictionary, passes=20)"
   ]
  },
  {
   "cell_type": "code",
   "execution_count": 13,
   "metadata": {
    "collapsed": true
   },
   "outputs": [],
   "source": [
    "lsamodel_tfidf = gensim.models.lsimodel.LsiModel(corpus, num_topics=50, id2word = dictionary)\n",
    "lsamodel_bow = gensim.models.lsimodel.LsiModel(corpus_tfidf, num_topics=50, id2word = dictionary)"
   ]
  },
  {
   "cell_type": "markdown",
   "metadata": {},
   "source": [
    "Extract the document to Topic weight matrix. Each column here have the \"loadings \" of each document on each topic after dimention reduction."
   ]
  },
  {
   "cell_type": "code",
   "execution_count": 14,
   "metadata": {
    "collapsed": true
   },
   "outputs": [],
   "source": [
    "docTopicProbMat_bow = ldamodel_bow[corpus]\n",
    "docTopicProbMat_tfidf = ldamodel_tfidf[corpus_tfidf]"
   ]
  },
  {
   "cell_type": "code",
   "execution_count": 15,
   "metadata": {
    "collapsed": true
   },
   "outputs": [],
   "source": [
    "docTopicProbMat_bow_lsa = lsamodel_bow[corpus]\n",
    "docTopicProbMat_tfidf_lsa = lsamodel_tfidf[corpus_tfidf]"
   ]
  },
  {
   "cell_type": "markdown",
   "metadata": {},
   "source": [
    "# Generate Document Topic Matrix"
   ]
  },
  {
   "cell_type": "code",
   "execution_count": 16,
   "metadata": {
    "collapsed": true
   },
   "outputs": [],
   "source": [
    "## bow LDA/LSA\n",
    "probmatrix_bow = []\n",
    "\n",
    "for i in docTopicProbMat_bow:\n",
    "    tmp = [0]*50\n",
    "    for j in i:\n",
    "        tmp[j[0]] = j[1]\n",
    "    probmatrix_bow.append(tmp)\n",
    "\n",
    "df_bow = pd.DataFrame(probmatrix_bow)\n",
    "\n",
    "probmatrix_bow_lsa = []\n",
    "\n",
    "for i in docTopicProbMat_bow_lsa:\n",
    "    tmp = [0]*50\n",
    "    for j in i:\n",
    "        tmp[j[0]] = j[1]\n",
    "    probmatrix_bow_lsa.append(tmp)\n",
    "\n",
    "df_bow_lsa = pd.DataFrame(probmatrix_bow_lsa)"
   ]
  },
  {
   "cell_type": "code",
   "execution_count": 17,
   "metadata": {
    "collapsed": true
   },
   "outputs": [],
   "source": [
    "## TFIDF LDA/LSA\n",
    "probmatrix_tfidf = []\n",
    "\n",
    "for i in docTopicProbMat_tfidf:\n",
    "    tmp = [0]*50\n",
    "    for j in i:\n",
    "        tmp[j[0]] = j[1]\n",
    "    probmatrix_tfidf.append(tmp)\n",
    "\n",
    "df_tfidf = pd.DataFrame(probmatrix_tfidf)"
   ]
  },
  {
   "cell_type": "code",
   "execution_count": 18,
   "metadata": {
    "collapsed": true
   },
   "outputs": [],
   "source": [
    "\n",
    "probmatrix_tfidf_lsa = []\n",
    "\n",
    "for i in docTopicProbMat_tfidf_lsa:\n",
    "    tmp = [0]*50\n",
    "    for j in i:\n",
    "        tmp[j[0]] = j[1]\n",
    "    probmatrix_tfidf_lsa.append(tmp)\n",
    "\n",
    "df_tfidf_lsa = pd.DataFrame(probmatrix_tfidf_lsa)"
   ]
  },
  {
   "cell_type": "code",
   "execution_count": 19,
   "metadata": {
    "scrolled": false
   },
   "outputs": [
    {
     "name": "stdout",
     "output_type": "stream",
     "text": [
      "[(32, 0.5099999999999999)]\n"
     ]
    }
   ],
   "source": [
    "print docTopicProbMat_tfidf[1]"
   ]
  },
  {
   "cell_type": "markdown",
   "metadata": {},
   "source": [
    "## Attach NPS (label) to the dataset"
   ]
  },
  {
   "cell_type": "code",
   "execution_count": 20,
   "metadata": {
    "collapsed": true
   },
   "outputs": [],
   "source": [
    "from sklearn import cross_validation\n",
    "Y_promoter = (raw2['NPS_Recode'] == \"Promoter\")\n",
    "Y_promoter.head()\n",
    "Y_detractor = (raw2['NPS_Recode'] == \"Detractor\")\n",
    "Y_detractor.head()\n",
    "Y = raw2['NPS_Recode'] "
   ]
  },
  {
   "cell_type": "markdown",
   "metadata": {},
   "source": [
    "## Training models for prediction"
   ]
  },
  {
   "cell_type": "markdown",
   "metadata": {},
   "source": [
    "In this section, we will used our different set-ups to predict NPS category (both promoter and detractor) and find the optimal combination of dimension-reduction + training methods. "
   ]
  },
  {
   "cell_type": "markdown",
   "metadata": {},
   "source": [
    "### Promoter - LDA/LSA - BOW "
   ]
  },
  {
   "cell_type": "code",
   "execution_count": 21,
   "metadata": {
    "collapsed": true
   },
   "outputs": [],
   "source": [
    "from sklearn import linear_model,metrics\n",
    "cv = cross_validation.ShuffleSplit(Y_promoter.size, n_iter=50, test_size=.1, random_state=0)\n",
    "accuracy_vec = []\n",
    "insample_accuracy_vec = []\n",
    "for k,(train, test) in enumerate(cv):\n",
    "    clf = linear_model.LogisticRegression(C=1., class_weight = 'balanced')\n",
    "    clf.fit(df_bow.iloc[train], Y_promoter.iloc[train])\n",
    "    pred = clf.predict(df_bow.iloc[test])\n",
    "    accuracy = metrics.accuracy_score(Y_promoter.iloc[test],pred)     \n",
    "    accuracy_vec.append(accuracy)   \n",
    "    insample_pred = clf.predict(df_bow.iloc[train])\n",
    "    insample_accuracy = metrics.accuracy_score(Y_promoter.iloc[train],insample_pred)     \n",
    "    insample_accuracy_vec.append(insample_accuracy) "
   ]
  },
  {
   "cell_type": "code",
   "execution_count": 22,
   "metadata": {
    "collapsed": true
   },
   "outputs": [],
   "source": [
    "accuracy_vec_lsa = []\n",
    "insample_accuracy_vec_lsa = []\n",
    "for k,(train, test) in enumerate(cv):\n",
    "    clf = linear_model.LogisticRegression(C=1.)  #, class_weight = 'balanced')\n",
    "    clf.fit(df_bow_lsa.iloc[train], Y_promoter.iloc[train])\n",
    "    pred_lsa = clf.predict(df_bow_lsa.iloc[test])\n",
    "    accuracy_lsa = metrics.accuracy_score(Y_promoter.iloc[test],pred)     \n",
    "    accuracy_vec_lsa.append(accuracy_lsa) \n",
    "    insample_pred_lsa = clf.predict(df_bow.iloc[train])\n",
    "    insample_accuracy_lsa = metrics.accuracy_score(Y_promoter.iloc[train],insample_pred)     \n",
    "    insample_accuracy_vec_lsa.append(insample_accuracy_lsa) "
   ]
  },
  {
   "cell_type": "code",
   "execution_count": 23,
   "metadata": {},
   "outputs": [
    {
     "name": "stdout",
     "output_type": "stream",
     "text": [
      "LDA: mean in-sample accuracy of 50 CV is 0.6816\n",
      "LDA: mean accuracy of 50 CV is 0.6806\n",
      "LDA: std of 50 CV is 0.0053\n",
      "LSA: mean in-sample accuracy of 50 CV is 0.5175\n",
      "LSA: mean accuracy of 50 CV is 0.5146\n",
      "LSA: std of 50 CV is 0.0234\n"
     ]
    },
    {
     "data": {
      "text/plain": [
       "array([[2319, 1160],\n",
       "       [ 616, 1311]])"
      ]
     },
     "execution_count": 23,
     "metadata": {},
     "output_type": "execute_result"
    }
   ],
   "source": [
    "accuracy_np = np.array(accuracy_vec).mean()  ## get the confidence interval for this accuracy\n",
    "insample_accuracy_np = np.array(insample_accuracy_vec).mean()  ## get the confidence interval for this accuracy\n",
    "accuracy_std_np = np.array(accuracy_vec).std()\n",
    "\n",
    "accuracy_np_lsa = np.array(accuracy_vec_lsa).mean()  ## get the confidence interval for this accuracy\n",
    "insample_accuraty_np_lsa = np.array(insample_accuracy_vec_lsa).mean()\n",
    "accuracy_std_np_lsa = np.array(accuracy_vec_lsa).std()\n",
    "\n",
    "print \"LDA: mean in-sample accuracy of 50 CV is\", round(insample_accuracy_np,4)\n",
    "print \"LDA: mean accuracy of 50 CV is\", round(accuracy_np,4)\n",
    "print \"LDA: std of 50 CV is\", round(accuracy_std_np,4)\n",
    "\n",
    "print \"LSA: mean in-sample accuracy of 50 CV is\", round(insample_accuraty_np_lsa,4)\n",
    "print \"LSA: mean accuracy of 50 CV is\", round(accuracy_np_lsa,4)\n",
    "print \"LSA: std of 50 CV is\", round(accuracy_std_np_lsa,4)\n",
    "\n",
    "# View confusion matrix\n",
    "metrics.confusion_matrix(y_true=Y_promoter.iloc[test],  # True labels\n",
    "                         y_pred=pred) # Predicted labels"
   ]
  },
  {
   "cell_type": "markdown",
   "metadata": {},
   "source": [
    "#### Looks like LSA is not a good idea compared to the accuracy of the LDA model. While in-sample accuracy and out-of-sample accuracy are similar and both are around 0.68, we are safe from the plague of over-fitting. For simplicity, the following code would not include in-sample accuracy calculation."
   ]
  },
  {
   "cell_type": "markdown",
   "metadata": {},
   "source": [
    "### Promoter - LDA - TFIDF"
   ]
  },
  {
   "cell_type": "code",
   "execution_count": 24,
   "metadata": {
    "collapsed": true
   },
   "outputs": [],
   "source": [
    "from sklearn import linear_model,metrics\n",
    "cv = cross_validation.ShuffleSplit(Y_promoter.size, n_iter=50, test_size=.1, random_state=0)\n",
    "accuracy_vec = []\n",
    "for k,(train, test) in enumerate(cv):\n",
    "    clf = linear_model.LogisticRegression(C=1., class_weight = 'balanced')\n",
    "    clf.fit(df_tfidf.iloc[train], Y_promoter.iloc[train])\n",
    "    pred = clf.predict(df_tfidf.iloc[test])\n",
    "    accuracy = metrics.accuracy_score(Y_promoter.iloc[test],pred)      ## fix me\n",
    "    accuracy_vec.append(accuracy)    "
   ]
  },
  {
   "cell_type": "code",
   "execution_count": 25,
   "metadata": {},
   "outputs": [
    {
     "name": "stdout",
     "output_type": "stream",
     "text": [
      "mean accuracy of 50 CV is 0.6885\n",
      "std of 50 CV is 0.0052\n"
     ]
    },
    {
     "data": {
      "text/plain": [
       "array([[2540,  939],\n",
       "       [ 751, 1176]])"
      ]
     },
     "execution_count": 25,
     "metadata": {},
     "output_type": "execute_result"
    }
   ],
   "source": [
    "accuracy_np = np.array(accuracy_vec).mean()  ## get the confidence interval for this accuracy\n",
    "accuracy_std_np = np.array(accuracy_vec).std()\n",
    "print \"mean accuracy of 50 CV is\", round(accuracy_np,4)\n",
    "print \"std of 50 CV is\", round(accuracy_std_np,4)\n",
    "\n",
    "# View confusion matrix\n",
    "metrics.confusion_matrix(y_true=Y_promoter.iloc[test],  # True labels\n",
    "                         y_pred=pred) # Predicted labels"
   ]
  },
  {
   "cell_type": "code",
   "execution_count": null,
   "metadata": {
    "collapsed": true
   },
   "outputs": [],
   "source": []
  },
  {
   "cell_type": "markdown",
   "metadata": {},
   "source": [
    "looks like TFIDF is getting similar results for Promoter prediction with LDA dimentsion reduction"
   ]
  },
  {
   "cell_type": "markdown",
   "metadata": {},
   "source": [
    "## Random Forest"
   ]
  },
  {
   "cell_type": "markdown",
   "metadata": {},
   "source": [
    "So far we've only used logistics regression, which is a linear classifier. Let's try Random Forest"
   ]
  },
  {
   "cell_type": "code",
   "execution_count": 26,
   "metadata": {
    "collapsed": true
   },
   "outputs": [],
   "source": [
    "from sklearn.ensemble import RandomForestClassifier\n",
    "cv = cross_validation.ShuffleSplit(Y_promoter.size, n_iter=1, test_size=.1, random_state=0)\n",
    "accuracy_vec = []\n",
    "insample_accuracy_vec = []\n",
    "for k,(train, test) in enumerate(cv):\n",
    "    rf = RandomForestClassifier()\n",
    "    rf.fit(df_tfidf.iloc[train],Y_promoter.iloc[train]) \n",
    "    pred = rf.predict(df_tfidf.iloc[test])\n",
    "    accuracy = metrics.accuracy_score(Y_promoter.iloc[test],pred)      ## fix me\n",
    "    accuracy_vec.append(accuracy) "
   ]
  },
  {
   "cell_type": "code",
   "execution_count": 27,
   "metadata": {},
   "outputs": [
    {
     "name": "stdout",
     "output_type": "stream",
     "text": [
      "mean accuracy of 50 CV is 0.8356\n",
      "std of 50 CV is 0.0\n"
     ]
    },
    {
     "data": {
      "text/plain": [
       "array([[3152,  346],\n",
       "       [ 543, 1365]])"
      ]
     },
     "execution_count": 27,
     "metadata": {},
     "output_type": "execute_result"
    }
   ],
   "source": [
    "accuracy_np = np.array(accuracy_vec).mean()  ## get the confidence interval for this accuracy\n",
    "accuracy_std_np = np.array(accuracy_vec).std()\n",
    "print \"mean accuracy of 50 CV is\", round(accuracy_np,4)\n",
    "print \"std of 50 CV is\", round(accuracy_std_np,4)\n",
    "\n",
    "# View confusion matrix\n",
    "metrics.confusion_matrix(y_true=Y_promoter.iloc[test],  # True labels\n",
    "                         y_pred=pred) # Predicted labels"
   ]
  },
  {
   "cell_type": "code",
   "execution_count": 28,
   "metadata": {},
   "outputs": [
    {
     "data": {
      "text/html": [
       "<div>\n",
       "<table border=\"1\" class=\"dataframe\">\n",
       "  <thead>\n",
       "    <tr style=\"text-align: right;\">\n",
       "      <th></th>\n",
       "      <th>index</th>\n",
       "      <th>NPS_Recode</th>\n",
       "    </tr>\n",
       "  </thead>\n",
       "  <tbody>\n",
       "    <tr>\n",
       "      <th>0</th>\n",
       "      <td>False</td>\n",
       "      <td>3498</td>\n",
       "    </tr>\n",
       "    <tr>\n",
       "      <th>1</th>\n",
       "      <td>True</td>\n",
       "      <td>1908</td>\n",
       "    </tr>\n",
       "  </tbody>\n",
       "</table>\n",
       "</div>"
      ],
      "text/plain": [
       "   index  NPS_Recode\n",
       "0  False        3498\n",
       "1   True        1908"
      ]
     },
     "execution_count": 28,
     "metadata": {},
     "output_type": "execute_result"
    }
   ],
   "source": [
    "counts =Y_promoter.iloc[test].value_counts().reset_index()\n",
    "counts"
   ]
  },
  {
   "cell_type": "markdown",
   "metadata": {},
   "source": [
    "It seems that reandom forest is giving out a much better prediction"
   ]
  },
  {
   "cell_type": "markdown",
   "metadata": {},
   "source": [
    "### Detractor - LDA - BOW"
   ]
  },
  {
   "cell_type": "code",
   "execution_count": 29,
   "metadata": {},
   "outputs": [
    {
     "name": "stdout",
     "output_type": "stream",
     "text": [
      "mean accuracy of 50 CV is 0.6794\n",
      "std of 50 CV is 0.0073\n"
     ]
    },
    {
     "data": {
      "text/plain": [
       "array([[1436, 2043],\n",
       "       [1419,  508]])"
      ]
     },
     "execution_count": 29,
     "metadata": {},
     "output_type": "execute_result"
    }
   ],
   "source": [
    "from sklearn import linear_model,metrics\n",
    "cv = cross_validation.ShuffleSplit(Y_detractor.size, n_iter=50, test_size=.1, random_state=0)\n",
    "accuracy_vec = []\n",
    "for k,(train, test) in enumerate(cv):\n",
    "    clf = linear_model.LogisticRegression(C=1., class_weight = 'balanced')\n",
    "    clf.fit(df_bow.iloc[train], Y_detractor.iloc[train])\n",
    "    pred = clf.predict(df_bow.iloc[test])\n",
    "    accuracy = metrics.accuracy_score(Y_detractor.iloc[test],pred)      ## fix me\n",
    "    accuracy_vec.append(accuracy)  \n",
    "accuracy_np = np.array(accuracy_vec).mean()  ## get the confidence interval for this accuracy\n",
    "accuracy_std_np = np.array(accuracy_vec).std()\n",
    "print \"mean accuracy of 50 CV is\", round(accuracy_np,4)\n",
    "print \"std of 50 CV is\", round(accuracy_std_np,4)\n",
    "# View confusion matrix\n",
    "metrics.confusion_matrix(y_true=Y_promoter.iloc[test],  # True labels\n",
    "                         y_pred=pred) # Predicted labels"
   ]
  },
  {
   "cell_type": "markdown",
   "metadata": {},
   "source": [
    "### Detractor - LDA - TFIDF"
   ]
  },
  {
   "cell_type": "code",
   "execution_count": 30,
   "metadata": {},
   "outputs": [
    {
     "name": "stdout",
     "output_type": "stream",
     "text": [
      "mean accuracy of 50 CV is 0.6635\n",
      "std of 50 CV is 0.0068\n"
     ]
    },
    {
     "data": {
      "text/plain": [
       "array([[1310, 2169],\n",
       "       [1352,  575]])"
      ]
     },
     "execution_count": 30,
     "metadata": {},
     "output_type": "execute_result"
    }
   ],
   "source": [
    "from sklearn import linear_model,metrics\n",
    "cv = cross_validation.ShuffleSplit(Y_detractor.size, n_iter=50, test_size=.1, random_state=0)\n",
    "accuracy_vec = []\n",
    "for k,(train, test) in enumerate(cv):\n",
    "    clf = linear_model.LogisticRegression(C=1., class_weight = 'balanced')\n",
    "    clf.fit(df_tfidf.iloc[train], Y_detractor.iloc[train])\n",
    "    pred = clf.predict(df_tfidf.iloc[test])\n",
    "    accuracy = metrics.accuracy_score(Y_detractor.iloc[test],pred)      ## fix me\n",
    "    accuracy_vec.append(accuracy)  \n",
    "accuracy_np = np.array(accuracy_vec).mean()  ## get the confidence interval for this accuracy\n",
    "accuracy_std_np = np.array(accuracy_vec).std()\n",
    "print \"mean accuracy of 50 CV is\", round(accuracy_np,4)\n",
    "print \"std of 50 CV is\", round(accuracy_std_np,4)\n",
    "# View confusion matrix\n",
    "metrics.confusion_matrix(y_true=Y_promoter.iloc[test],  # True labels\n",
    "                         y_pred=pred) # Predicted labels"
   ]
  },
  {
   "cell_type": "markdown",
   "metadata": {
    "collapsed": true
   },
   "source": [
    "It would seem that LDA prediction for promoter have similar accuracy for BOW and DFIDF set-ups. let's again try the rf model"
   ]
  },
  {
   "cell_type": "markdown",
   "metadata": {},
   "source": [
    "### Detractor - LDA - Random Forest "
   ]
  },
  {
   "cell_type": "code",
   "execution_count": 31,
   "metadata": {
    "collapsed": true
   },
   "outputs": [],
   "source": [
    "from sklearn.ensemble import RandomForestClassifier\n",
    "cv = cross_validation.ShuffleSplit(Y_detractor.size, n_iter=50, test_size=.1, random_state=0)\n",
    "accuracy_vec = []\n",
    "for k,(train, test) in enumerate(cv):\n",
    "    rf = RandomForestClassifier(class_weight = 'balanced')\n",
    "    rf.fit(df_tfidf.iloc[train],Y_detractor.iloc[train]) \n",
    "    pred = rf.predict(df_tfidf.iloc[test])\n",
    "    accuracy = metrics.accuracy_score(Y_detractor.iloc[test],pred)      ## fix me\n",
    "    accuracy_vec.append(accuracy) "
   ]
  },
  {
   "cell_type": "code",
   "execution_count": 32,
   "metadata": {},
   "outputs": [
    {
     "data": {
      "text/plain": [
       "array([False, False, False, ..., False, False,  True], dtype=bool)"
      ]
     },
     "execution_count": 32,
     "metadata": {},
     "output_type": "execute_result"
    }
   ],
   "source": [
    "pred"
   ]
  },
  {
   "cell_type": "code",
   "execution_count": null,
   "metadata": {
    "collapsed": true
   },
   "outputs": [],
   "source": []
  },
  {
   "cell_type": "code",
   "execution_count": 33,
   "metadata": {},
   "outputs": [
    {
     "name": "stdout",
     "output_type": "stream",
     "text": [
      "mean accuracy of 50 CV is 0.8783\n",
      "std of 50 CV is 0.004\n"
     ]
    },
    {
     "data": {
      "text/plain": [
       "array([[3436,  264],\n",
       "       [ 434, 1272]])"
      ]
     },
     "execution_count": 33,
     "metadata": {},
     "output_type": "execute_result"
    }
   ],
   "source": [
    "accuracy_np = np.array(accuracy_vec).mean()  ## get the confidence interval for this accuracy\n",
    "accuracy_std_np = np.array(accuracy_vec).std()\n",
    "print \"mean accuracy of 50 CV is\", round(accuracy_np,4)\n",
    "print \"std of 50 CV is\", round(accuracy_std_np,4)\n",
    "# View confusion matrix\n",
    "metrics.confusion_matrix(y_true=Y_detractor.iloc[test],  # True labels\n",
    "                         y_pred=pred) # Predicted labels"
   ]
  },
  {
   "cell_type": "code",
   "execution_count": 34,
   "metadata": {},
   "outputs": [
    {
     "name": "stdout",
     "output_type": "stream",
     "text": [
      "most important topics in predictions are: [26 17  1 47  7 21 28 18 22 13]\n",
      "topit 0 word 0 : channel\n",
      "topit 0 word 1 : littl\n",
      "topit 0 word 2 : chang\n",
      "topit 0 word 3 : far\n",
      "topit 0 word 4 : complet\n",
      "topit 1 word 0 : price\n",
      "topit 1 word 1 : high\n",
      "topit 1 word 2 : servic\n",
      "topit 1 word 3 : keep\n",
      "topit 1 word 4 : go\n",
      "topit 2 word 0 : provid\n",
      "topit 2 word 1 : servic\n",
      "topit 2 word 2 : mediacom\n",
      "topit 2 word 3 : none\n",
      "topit 2 word 4 : tech\n",
      "topit 3 word 0 : will\n",
      "topit 3 word 1 : come\n",
      "topit 3 word 2 : even\n",
      "topit 3 word 3 : day\n",
      "topit 3 word 4 : wait\n",
      "topit 4 word 0 : time\n",
      "topit 4 word 1 : us\n",
      "topit 4 word 2 : warner\n",
      "topit 4 word 3 : sinc\n",
      "topit 4 word 4 : took\n",
      "topit 5 word 0 : ok\n",
      "topit 5 word 1 : one\n",
      "topit 5 word 2 : demand\n",
      "topit 5 word 3 : hour\n",
      "topit 5 word 4 : show\n",
      "topit 6 word 0 : connect\n",
      "topit 6 word 1 : program\n",
      "topit 6 word 2 : gener\n",
      "topit 6 word 3 : overpr\n",
      "topit 6 word 4 : na\n",
      "topit 7 word 0 : custom\n",
      "topit 7 word 1 : servic\n",
      "topit 7 word 2 : poor\n",
      "topit 7 word 3 : speak\n",
      "topit 7 word 4 : support\n",
      "topit 8 word 0 : verizon\n",
      "topit 8 word 1 : happi\n",
      "topit 8 word 2 : servic\n",
      "topit 8 word 3 : w\n",
      "topit 8 word 4 : dont\n",
      "topit 9 word 0 : better\n",
      "topit 9 word 1 : frontier\n",
      "topit 9 word 2 : deal\n",
      "topit 9 word 3 : sometim\n",
      "topit 9 word 4 : now\n"
     ]
    }
   ],
   "source": [
    "importances = rf.feature_importances_\n",
    "indices = np.argsort(importances)[::-1][0:10]\n",
    "\n",
    "print \"most important topics in predictions are:\", indices\n",
    "for i in range(len(indices)):\n",
    "    topics = ldamodel_tfidf.show_topic(i, topn = 8)\n",
    "    for w in range(5):\n",
    "        print \"topit\", i, \"word\", w, \":\", topics[w][0]\n"
   ]
  },
  {
   "cell_type": "code",
   "execution_count": 35,
   "metadata": {},
   "outputs": [
    {
     "name": "stdout",
     "output_type": "stream",
     "text": [
      "26    25735\n",
      "17    41910\n",
      "1     51958\n",
      "47     2960\n",
      "7     13458\n",
      "21     1548\n",
      "28     6064\n",
      "18     1293\n",
      "22     4966\n",
      "13    18584\n",
      "dtype: int64\n",
      "Everything is for the most part of high quality.\n"
     ]
    }
   ],
   "source": [
    "## Get example documents for each most important topics \n",
    "index_maxtopic = df_tfidf.idxmax(axis = 0)\n",
    "imp_index = index_maxtopic[indices]\n",
    "print imp_index\n",
    "print raw['NPS2'][15349]"
   ]
  },
  {
   "cell_type": "code",
   "execution_count": 36,
   "metadata": {
    "collapsed": true
   },
   "outputs": [],
   "source": [
    "\n",
    "from sklearn.ensemble import RandomForestClassifier\n",
    "cv = cross_validation.ShuffleSplit(Y.size, n_iter=50, test_size=.1, random_state=0)\n",
    "accuracy_vec = []\n",
    "for k,(train, test) in enumerate(cv):\n",
    "    rf = RandomForestClassifier(class_weight = 'balanced')\n",
    "    rf.fit(df_tfidf.iloc[train],Y.iloc[train]) \n",
    "    pred = rf.predict(df_tfidf.iloc[test])\n",
    "    accuracy = metrics.accuracy_score(Y.iloc[test],pred)      ## fix me\n",
    "    accuracy_vec.append(accuracy) \n"
   ]
  },
  {
   "cell_type": "code",
   "execution_count": 40,
   "metadata": {},
   "outputs": [
    {
     "name": "stdout",
     "output_type": "stream",
     "text": [
      "mean accuracy of 50 CV is 0.7555\n",
      "std of 50 CV is 0.0063\n"
     ]
    }
   ],
   "source": [
    "accuracy_np = np.array(accuracy_vec).mean()  ## get the confidence interval for this accuracy\n",
    "accuracy_std_np = np.array(accuracy_vec).std()\n",
    "print \"mean accuracy of 50 CV is\", round(accuracy_np,4)\n",
    "print \"std of 50 CV is\", round(accuracy_std_np,4)\n",
    "# View confusion matrix"
   ]
  },
  {
   "cell_type": "markdown",
   "metadata": {},
   "source": [
    "### Bigram Model"
   ]
  },
  {
   "cell_type": "code",
   "execution_count": 61,
   "metadata": {
    "collapsed": true
   },
   "outputs": [],
   "source": [
    "from nltk.stem.wordnet import WordNetLemmatizer\n",
    "\n",
    "docs = raw2['NPS2_stemmed']\n",
    "\n",
    "# Lemmatize all words in documents.\n",
    "lemmatizer = WordNetLemmatizer()\n",
    "docs = [[lemmatizer.lemmatize(token) for token in doc] for doc in docs]"
   ]
  },
  {
   "cell_type": "code",
   "execution_count": 62,
   "metadata": {
    "collapsed": true
   },
   "outputs": [],
   "source": [
    "from gensim.models import Phrases\n",
    "from gensim.models import Word2Vec\n",
    "from nltk.corpus import stopwords\n",
    "\n",
    "bigram  = Phrases(docs)\n",
    "for idx in range(len(docs)):\n",
    "    for token in bigram[docs[idx]]:\n",
    "        if '_' in token:\n",
    "            # Token is a bigram, add to document.\n",
    "            docs[idx].append(token)"
   ]
  },
  {
   "cell_type": "code",
   "execution_count": 64,
   "metadata": {},
   "outputs": [
    {
     "data": {
      "text/plain": [
       "<gensim.corpora.dictionary.Dictionary at 0x1b105710>"
      ]
     },
     "execution_count": 64,
     "metadata": {},
     "output_type": "execute_result"
    }
   ],
   "source": [
    "from gensim import corpora, models\n",
    "dictionary_2g = corpora.Dictionary(docs)\n",
    "dictionary_2g"
   ]
  },
  {
   "cell_type": "code",
   "execution_count": 66,
   "metadata": {},
   "outputs": [
    {
     "name": "stdout",
     "output_type": "stream",
     "text": [
      "Then convert convert tokenized documents to vectors: <class 'list'>\n",
      "[(0, 1), (1, 1), (2, 1), (3, 1), (4, 1)]\n"
     ]
    }
   ],
   "source": [
    "corpus_2g = [dictionary_2g.doc2bow(text) for text in docs]\n",
    "print(\"Then convert convert tokenized documents to vectors: %s\"% type(corpus_2g))\n",
    "print(corpus_2g[0])"
   ]
  },
  {
   "cell_type": "code",
   "execution_count": 67,
   "metadata": {},
   "outputs": [
    {
     "name": "stdout",
     "output_type": "stream",
     "text": [
      "We initialize our TF-IDF transformation tool : <class 'gensim.models.tfidfmodel.TfidfModel'>\n"
     ]
    }
   ],
   "source": [
    "import gensim\n",
    "tfidf_2g = models.TfidfModel(corpus_2g) # step 1 -- initialize a model\n",
    "print(\"We initialize our TF-IDF transformation tool : %s\"%type(tfidf_2g))\n",
    "# corpus tf-idf\n",
    "corpus_tfidf_2g = tfidf_2g[corpus_2g]"
   ]
  },
  {
   "cell_type": "code",
   "execution_count": 69,
   "metadata": {
    "collapsed": true
   },
   "outputs": [],
   "source": [
    "ldamodel_tfidf_2g = gensim.models.ldamodel.LdaModel(corpus_tfidf_2g, num_topics=50, id2word = dictionary_2g, passes=20)"
   ]
  },
  {
   "cell_type": "code",
   "execution_count": 71,
   "metadata": {
    "collapsed": true
   },
   "outputs": [],
   "source": [
    "docTopicProbMat_tfidf_2g = ldamodel_tfidf_2g[corpus_tfidf_2g]\n",
    "## TFIDF LDA/LSA\n",
    "probmatrix_tfidf_2g = []\n",
    "\n",
    "for i in docTopicProbMat_tfidf_2g:\n",
    "    tmp = [0]*50\n",
    "    for j in i:\n",
    "        tmp[j[0]] = j[1]\n",
    "    probmatrix_tfidf_2g.append(tmp)\n",
    "\n",
    "df_tfidf_2g = pd.DataFrame(probmatrix_tfidf_2g)"
   ]
  },
  {
   "cell_type": "code",
   "execution_count": 72,
   "metadata": {},
   "outputs": [
    {
     "name": "stderr",
     "output_type": "stream",
     "text": [
      "C:\\Users\\xiyan_wang\\AppData\\Local\\Continuum\\Anaconda3\\lib\\site-packages\\sklearn\\cross_validation.py:44: DeprecationWarning: This module was deprecated in version 0.18 in favor of the model_selection module into which all the refactored classes and functions are moved. Also note that the interface of the new CV iterators are different from that of this module. This module will be removed in 0.20.\n",
      "  \"This module will be removed in 0.20.\", DeprecationWarning)\n"
     ]
    }
   ],
   "source": [
    "from sklearn import cross_validation\n",
    "Y_promoter = (raw2['NPS_Recode'] == \"Promoter\")\n",
    "Y_promoter.head()\n",
    "Y_detractor = (raw2['NPS_Recode'] == \"Detractor\")\n",
    "Y_detractor.head()\n",
    "Y = raw2['NPS_Recode'] "
   ]
  },
  {
   "cell_type": "code",
   "execution_count": 77,
   "metadata": {
    "collapsed": true
   },
   "outputs": [],
   "source": [
    "from sklearn.ensemble import RandomForestClassifier\n",
    "cv = cross_validation.ShuffleSplit(Y_promoter.size, n_iter=1, test_size=.1, random_state=0)\n",
    "accuracy_vec = []\n",
    "insample_accuracy_vec = []\n",
    "for k,(train, test) in enumerate(cv):\n",
    "    rf = RandomForestClassifier()\n",
    "    rf.fit(df_tfidf_2g.iloc[train],Y_promoter.iloc[train]) \n",
    "    pred = rf.predict(df_tfidf_2g.iloc[test])\n",
    "    accuracy = metrics.accuracy_score(Y_promoter.iloc[test],pred)      ## fix me\n",
    "    accuracy_vec.append(accuracy)    "
   ]
  },
  {
   "cell_type": "code",
   "execution_count": 78,
   "metadata": {},
   "outputs": [
    {
     "name": "stdout",
     "output_type": "stream",
     "text": [
      "mean accuracy of 50 CV is 0.8352\n",
      "std of 50 CV is 0.0\n"
     ]
    },
    {
     "data": {
      "text/plain": [
       "array([[3163,  335],\n",
       "       [ 556, 1352]])"
      ]
     },
     "execution_count": 78,
     "metadata": {},
     "output_type": "execute_result"
    }
   ],
   "source": [
    "accuracy_np = np.array(accuracy_vec).mean()  ## get the confidence interval for this accuracy\n",
    "accuracy_std_np = np.array(accuracy_vec).std()\n",
    "print (\"mean accuracy of 50 CV is\", round(accuracy_np,4))\n",
    "print (\"std of 50 CV is\", round(accuracy_std_np,4))\n",
    "\n",
    "# View confusion matrix\n",
    "metrics.confusion_matrix(y_true=Y_promoter.iloc[test],  # True labels\n",
    "                         y_pred=pred) # Predicted labels"
   ]
  },
  {
   "cell_type": "code",
   "execution_count": null,
   "metadata": {
    "collapsed": true
   },
   "outputs": [],
   "source": []
  }
 ],
 "metadata": {
  "anaconda-cloud": {},
  "kernelspec": {
   "display_name": "Python 3",
   "language": "python",
   "name": "python3"
  },
  "language_info": {
   "codemirror_mode": {
    "name": "ipython",
    "version": 3
   },
   "file_extension": ".py",
   "mimetype": "text/x-python",
   "name": "python",
   "nbconvert_exporter": "python",
   "pygments_lexer": "ipython3",
   "version": "3.6.1"
  }
 },
 "nbformat": 4,
 "nbformat_minor": 1
}
